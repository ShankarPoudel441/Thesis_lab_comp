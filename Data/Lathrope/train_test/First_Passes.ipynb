{
 "cells": [
  {
   "cell_type": "code",
   "execution_count": 2,
   "id": "3f5dfdb9",
   "metadata": {},
   "outputs": [],
   "source": [
    "import pandas as pd\n",
    "import numpy as np"
   ]
  },
  {
   "cell_type": "code",
   "execution_count": 3,
   "id": "687ff692",
   "metadata": {},
   "outputs": [],
   "source": [
    "GMM_first=[\n",
    "    \"/home/spoudel/Thesis/Data/Lathrope/train_test/data_pass/l1_3781904_1212859/GMM_first_pass_3781904_1212859_38.csv\",\n",
    "     \"/home/spoudel/Thesis/Data/Lathrope/train_test/data_pass/l2_3781892_1212811/GMM_first_pass_3781892_1212811_105.csv\",\n",
    "    \"/home/spoudel/Thesis/Data/Lathrope/train_test/data_pass/l3_3781881_1212807/GMM_first_pass_3781881_1212807_105.csv\"\n",
    "     ]\n",
    "\n",
    "KMeans_first=[\n",
    "    \"/home/spoudel/Thesis/Data/Lathrope/train_test/data_pass/l1_3781904_1212859/KMeans_first_pass_3781904_1212859_38.csv\",\n",
    "    \"/home/spoudel/Thesis/Data/Lathrope/train_test/data_pass/l2_3781892_1212811/KMeans_first_pass_3781892_1212811_105.csv\",\n",
    "    \"/home/spoudel/Thesis/Data/Lathrope/train_test/data_pass/l3_3781881_1212807/KMeans_first_pass_3781881_1212807_105.csv\"\n",
    "]\n",
    "\n"
   ]
  },
  {
   "cell_type": "code",
   "execution_count": 4,
   "id": "448f0cdc",
   "metadata": {},
   "outputs": [],
   "source": [
    "df_GMMS=[pd.read_csv(x) for x in GMM_first]\n",
    "df_KMeans=[pd.read_csv(x) for x in KMeans_first]"
   ]
  },
  {
   "cell_type": "code",
   "execution_count": 5,
   "id": "c20492d1",
   "metadata": {},
   "outputs": [],
   "source": [
    "def pass_change(df):\n",
    "    try:\n",
    "        df[\"prev\"]=df[\"GMM\"].shift(1)\n",
    "        df[\"change\"]=df.apply(lambda x: x[\"prev\"]-x[\"GMM\"],axis=1)\n",
    "        df[\"pss_change\"]=df.apply(lambda x: abs(x[\"change\"]),axis=1)\n",
    "    except:\n",
    "        df[\"prev\"]=df[\"K_Means\"].shift(1)\n",
    "        df[\"change\"]=df.apply(lambda x: x[\"prev\"]-x[\"K_Means\"],axis=1)\n",
    "        df[\"pss_change\"]=df.apply(lambda x: abs(x[\"change\"]),axis=1)\n",
    "    return df\n",
    "\n",
    "df_GMMS_c=[pass_change(df) for df in df_GMMS]\n",
    "df_KMeans_c=[pass_change(df) for df in df_KMeans]\n"
   ]
  },
  {
   "cell_type": "code",
   "execution_count": 6,
   "id": "a0fdb67f",
   "metadata": {
    "scrolled": true
   },
   "outputs": [
    {
     "data": {
      "text/plain": [
       "[0.0    47\n",
       " 2.0    21\n",
       " 1.0    12\n",
       " 3.0     3\n",
       " Name: pss_change, dtype: int64,\n",
       " 0.0    4553\n",
       " 2.0     107\n",
       " 1.0      54\n",
       " 3.0      53\n",
       " 4.0       4\n",
       " Name: pss_change, dtype: int64,\n",
       " 0.0    44\n",
       " 2.0    28\n",
       " 3.0    10\n",
       " 1.0     9\n",
       " Name: pss_change, dtype: int64]"
      ]
     },
     "execution_count": 6,
     "metadata": {},
     "output_type": "execute_result"
    }
   ],
   "source": [
    "value_counts_GMM=[x[\"pss_change\"].value_counts() for x in df_GMMS_c]\n",
    "value_counts_GMM"
   ]
  },
  {
   "cell_type": "code",
   "execution_count": 8,
   "id": "279dbf22",
   "metadata": {},
   "outputs": [
    {
     "data": {
      "text/plain": [
       "<matplotlib.axes._subplots.AxesSubplot at 0x7fb1a2648cc0>"
      ]
     },
     "execution_count": 8,
     "metadata": {},
     "output_type": "execute_result"
    },
    {
     "data": {
      "image/png": "[encoded data removed]",
      "text/plain": [
       "<Figure size 432x288 with 1 Axes>"
      ]
     },
     "metadata": {
      "needs_background": "light"
     },
     "output_type": "display_data"
    }
   ],
   "source": [
    "df_GMMS_c[0][\"pss_change\"].hist()"
   ]
  },
  {
   "cell_type": "code",
   "execution_count": 10,
   "id": "098411ca",
   "metadata": {},
   "outputs": [
    {
     "data": {
      "text/plain": [
       "<matplotlib.axes._subplots.AxesSubplot at 0x7fb19a0ef128>"
      ]
     },
     "execution_count": 10,
     "metadata": {},
     "output_type": "execute_result"
    },
    {
     "data": {
      "image/png": "[encoded data removed]",
      "text/plain": [
       "<Figure size 432x288 with 1 Axes>"
      ]
     },
     "metadata": {
      "needs_background": "light"
     },
     "output_type": "display_data"
    }
   ],
   "source": [
    "df_GMMS_c[1][\"pss_change\"].hist()"
   ]
  },
  {
   "cell_type": "code",
   "execution_count": 11,
   "id": "4db8a97e",
   "metadata": {},
   "outputs": [
    {
     "data": {
      "text/plain": [
       "<matplotlib.axes._subplots.AxesSubplot at 0x7fb19a084470>"
      ]
     },
     "execution_count": 11,
     "metadata": {},
     "output_type": "execute_result"
    },
    {
     "data": {
      "image/png": "[encoded data removed]",
      "text/plain": [
       "<Figure size 432x288 with 1 Axes>"
      ]
     },
     "metadata": {
      "needs_background": "light"
     },
     "output_type": "display_data"
    }
   ],
   "source": [
    "df_GMMS_c[2][\"pss_change\"].hist()"
   ]
  },
  {
   "cell_type": "code",
   "execution_count": 7,
   "id": "779af617",
   "metadata": {},
   "outputs": [
    {
     "data": {
      "text/plain": [
       "[0.0    33\n",
       " 1.0    21\n",
       " 2.0    20\n",
       " 3.0     8\n",
       " 4.0     1\n",
       " Name: pss_change, dtype: int64,\n",
       " 0.0    4494\n",
       " 1.0     161\n",
       " 2.0      71\n",
       " 3.0      39\n",
       " 4.0       5\n",
       " 5.0       1\n",
       " Name: pss_change, dtype: int64,\n",
       " 0.0    32\n",
       " 1.0    27\n",
       " 2.0    25\n",
       " 3.0     6\n",
       " 4.0     1\n",
       " Name: pss_change, dtype: int64]"
      ]
     },
     "execution_count": 7,
     "metadata": {},
     "output_type": "execute_result"
    }
   ],
   "source": [
    "value_counts_KMeans=[x[\"pss_change\"].value_counts() for x in df_KMeans_c]\n",
    "value_counts_KMeans"
   ]
  },
  {
   "cell_type": "code",
   "execution_count": 21,
   "id": "7014bbf6",
   "metadata": {},
   "outputs": [
    {
     "data": {
      "text/plain": [
       "count    84.000000\n",
       "mean      2.357143\n",
       "std       1.208832\n",
       "min       1.000000\n",
       "25%       1.000000\n",
       "50%       2.000000\n",
       "75%       4.000000\n",
       "max       5.000000\n",
       "Name: K_Means, dtype: float64"
      ]
     },
     "execution_count": 21,
     "metadata": {},
     "output_type": "execute_result"
    },
    {
     "data": {
      "image/png": "[encoded data removed]",
      "text/plain": [
       "<Figure size 432x288 with 1 Axes>"
      ]
     },
     "metadata": {
      "needs_background": "light"
     },
     "output_type": "display_data"
    }
   ],
   "source": [
    "df_KMeans_c[0][\"pss_change\"].hist()\n",
    "df_KMeans_c[0][\"K_Means\"].describe()"
   ]
  },
  {
   "cell_type": "code",
   "execution_count": 15,
   "id": "9a1e2367",
   "metadata": {},
   "outputs": [
    {
     "data": {
      "text/plain": [
       "<matplotlib.axes._subplots.AxesSubplot at 0x7fb199e75358>"
      ]
     },
     "execution_count": 15,
     "metadata": {},
     "output_type": "execute_result"
    },
    {
     "data": {
      "image/png": "[encoded data removed]",
      "text/plain": [
       "<Figure size 432x288 with 1 Axes>"
      ]
     },
     "metadata": {
      "needs_background": "light"
     },
     "output_type": "display_data"
    }
   ],
   "source": [
    "df_KMeans_c[1][\"pss_change\"].hist()"
   ]
  },
  {
   "cell_type": "code",
   "execution_count": 16,
   "id": "7704b698",
   "metadata": {},
   "outputs": [
    {
     "data": {
      "text/plain": [
       "<matplotlib.axes._subplots.AxesSubplot at 0x7fb199de6dd8>"
      ]
     },
     "execution_count": 16,
     "metadata": {},
     "output_type": "execute_result"
    },
    {
     "data": {
      "image/png": "[encoded data removed]",
      "text/plain": [
       "<Figure size 432x288 with 1 Axes>"
      ]
     },
     "metadata": {
      "needs_background": "light"
     },
     "output_type": "display_data"
    }
   ],
   "source": [
    "df_KMeans_c[2][\"pss_change\"].hist()"
   ]
  },
  {
   "cell_type": "code",
   "execution_count": null,
   "id": "46977f17",
   "metadata": {},
   "outputs": [],
   "source": []
  }
 ],
 "metadata": {
  "kernelspec": {
   "display_name": "Python 3",
   "language": "python",
   "name": "python3"
  },
  "language_info": {
   "codemirror_mode": {
    "name": "ipython",
    "version": 3
   },
   "file_extension": ".py",
   "mimetype": "text/x-python",
   "name": "python",
   "nbconvert_exporter": "python",
   "pygments_lexer": "ipython3",
   "version": "3.7.0"
  }
 },
 "nbformat": 4,
 "nbformat_minor": 5
}
