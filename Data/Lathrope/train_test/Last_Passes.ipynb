{
 "cells": [
  {
   "cell_type": "code",
   "execution_count": 1,
   "id": "33f2c12f",
   "metadata": {},
   "outputs": [],
   "source": [
    "import pandas as pd\n",
    "import numpy as np"
   ]
  },
  {
   "cell_type": "code",
   "execution_count": 2,
   "id": "2516a140",
   "metadata": {},
   "outputs": [],
   "source": [
    "GMM_final=[\n",
    "    \"/home/spoudel/Thesis/Data/Lathrope/train_test/data_pass/l1_3781904_1212859/GMM_final_pass_3781904_1212859_74.csv\",\n",
    "    \"/home/spoudel/Thesis/Data/Lathrope/train_test/data_pass/l2_3781892_1212811/GMM_power_final_pass_3781892_1212811_114.csv\",\n",
    "    \"/home/spoudel/Thesis/Data/Lathrope/train_test/data_pass/l3_3781881_1212807/GMM_final_pass_3781881_1212807_114.csv\"\n",
    "]\n",
    "\n",
    "KMeans_final=[\n",
    "    \"/home/spoudel/Thesis/Data/Lathrope/train_test/data_pass/l1_3781904_1212859/KMeans_final_pass_3781904_1212859_74.csv\",\n",
    "    \"/home/spoudel/Thesis/Data/Lathrope/train_test/data_pass/l2_3781892_1212811/KMeans_final_pass_3781892_1212811_114.csv\",\n",
    "    \"/home/spoudel/Thesis/Data/Lathrope/train_test/data_pass/l3_3781881_1212807/KMeans_final_pass_3781881_1212807_114.csv\"\n",
    "]"
   ]
  },
  {
   "cell_type": "code",
   "execution_count": 3,
   "id": "28c71e6c",
   "metadata": {},
   "outputs": [],
   "source": [
    "df_GMMS=[pd.read_csv(x) for x in GMM_final]\n",
    "df_KMeans=[pd.read_csv(x) for x in KMeans_final]"
   ]
  },
  {
   "cell_type": "code",
   "execution_count": 4,
   "id": "33b6c57c",
   "metadata": {},
   "outputs": [],
   "source": [
    "def pass_change(df):\n",
    "    try:\n",
    "        df[\"prev\"]=df[\"GMM\"].shift(1)\n",
    "        df[\"change\"]=df.apply(lambda x: x[\"prev\"]-x[\"GMM\"],axis=1)\n",
    "        df[\"pss_change\"]=df.apply(lambda x: abs(x[\"change\"]),axis=1)\n",
    "    except:\n",
    "        df[\"prev\"]=df[\"K_Means\"].shift(1)\n",
    "        df[\"change\"]=df.apply(lambda x: x[\"prev\"]-x[\"K_Means\"],axis=1)\n",
    "        df[\"pss_change\"]=df.apply(lambda x: abs(x[\"change\"]),axis=1)\n",
    "    return df\n",
    "\n",
    "df_GMMS_c=[pass_change(df) for df in df_GMMS]\n",
    "df_KMeans_c=[pass_change(df) for df in df_KMeans]\n"
   ]
  },
  {
   "cell_type": "code",
   "execution_count": 14,
   "id": "5bfb5a29",
   "metadata": {
    "scrolled": false
   },
   "outputs": [
    {
     "data": {
      "text/plain": [
       "[0.0    41\n",
       " 2.0    31\n",
       " 1.0     8\n",
       " 3.0     3\n",
       " Name: pss_change, dtype: int64,\n",
       " 0.0    37\n",
       " 1.0    29\n",
       " 2.0    15\n",
       " 3.0    10\n",
       " Name: pss_change, dtype: int64,\n",
       " 0.0    42\n",
       " 2.0    29\n",
       " 1.0    18\n",
       " 3.0     2\n",
       " Name: pss_change, dtype: int64]"
      ]
     },
     "execution_count": 14,
     "metadata": {},
     "output_type": "execute_result"
    }
   ],
   "source": [
    "value_counts_GMM=[x[\"pss_change\"].value_counts() for x in df_GMMS_c]\n",
    "value_counts_GMM"
   ]
  },
  {
   "cell_type": "code",
   "execution_count": 49,
   "id": "2e55bd45",
   "metadata": {
    "scrolled": true
   },
   "outputs": [
    {
     "data": {
      "text/plain": [
       "<matplotlib.axes._subplots.AxesSubplot at 0x7fea39208cf8>"
      ]
     },
     "execution_count": 49,
     "metadata": {},
     "output_type": "execute_result"
    },
    {
     "data": {
      "image/png": "[encoded data removed]",
      "text/plain": [
       "<Figure size 432x288 with 1 Axes>"
      ]
     },
     "metadata": {
      "needs_background": "light"
     },
     "output_type": "display_data"
    }
   ],
   "source": [
    "df_GMMS_c[0][\"pss_change\"].hist()"
   ]
  },
  {
   "cell_type": "code",
   "execution_count": 51,
   "id": "e06586e6",
   "metadata": {
    "scrolled": true
   },
   "outputs": [
    {
     "data": {
      "text/plain": [
       "<matplotlib.axes._subplots.AxesSubplot at 0x7fea390eb4a8>"
      ]
     },
     "execution_count": 51,
     "metadata": {},
     "output_type": "execute_result"
    },
    {
     "data": {
      "image/png": "[encoded data removed]",
      "text/plain": [
       "<Figure size 432x288 with 1 Axes>"
      ]
     },
     "metadata": {
      "needs_background": "light"
     },
     "output_type": "display_data"
    }
   ],
   "source": [
    "df_GMMS_c[1][\"pss_change\"].hist()"
   ]
  },
  {
   "cell_type": "code",
   "execution_count": 52,
   "id": "d0f06274",
   "metadata": {},
   "outputs": [
    {
     "data": {
      "text/plain": [
       "<matplotlib.axes._subplots.AxesSubplot at 0x7fea3908d588>"
      ]
     },
     "execution_count": 52,
     "metadata": {},
     "output_type": "execute_result"
    },
    {
     "data": {
      "image/png": "[encoded data removed]",
      "text/plain": [
       "<Figure size 432x288 with 1 Axes>"
      ]
     },
     "metadata": {
      "needs_background": "light"
     },
     "output_type": "display_data"
    }
   ],
   "source": [
    "df_GMMS_c[2][\"pss_change\"].hist()"
   ]
  },
  {
   "cell_type": "code",
   "execution_count": 39,
   "id": "53e32a41",
   "metadata": {},
   "outputs": [
    {
     "data": {
      "text/html": [
       "<div>\n",
       "<style scoped>\n",
       "    .dataframe tbody tr th:only-of-type {\n",
       "        vertical-align: middle;\n",
       "    }\n",
       "\n",
       "    .dataframe tbody tr th {\n",
       "        vertical-align: top;\n",
       "    }\n",
       "\n",
       "    .dataframe thead th {\n",
       "        text-align: right;\n",
       "    }\n",
       "</style>\n",
       "<table border=\"1\" class=\"dataframe\">\n",
       "  <thead>\n",
       "    <tr style=\"text-align: right;\">\n",
       "      <th></th>\n",
       "      <th>l1</th>\n",
       "      <th>l2</th>\n",
       "      <th>l3</th>\n",
       "    </tr>\n",
       "  </thead>\n",
       "  <tbody>\n",
       "    <tr>\n",
       "      <th>0</th>\n",
       "      <td>41</td>\n",
       "      <td>37</td>\n",
       "      <td>42</td>\n",
       "    </tr>\n",
       "    <tr>\n",
       "      <th>1</th>\n",
       "      <td>31</td>\n",
       "      <td>29</td>\n",
       "      <td>18</td>\n",
       "    </tr>\n",
       "    <tr>\n",
       "      <th>2</th>\n",
       "      <td>8</td>\n",
       "      <td>15</td>\n",
       "      <td>29</td>\n",
       "    </tr>\n",
       "    <tr>\n",
       "      <th>3</th>\n",
       "      <td>3</td>\n",
       "      <td>10</td>\n",
       "      <td>2</td>\n",
       "    </tr>\n",
       "  </tbody>\n",
       "</table>\n",
       "</div>"
      ],
      "text/plain": [
       "   l1  l2  l3\n",
       "0  41  37  42\n",
       "1  31  29  18\n",
       "2   8  15  29\n",
       "3   3  10   2"
      ]
     },
     "execution_count": 39,
     "metadata": {},
     "output_type": "execute_result"
    }
   ],
   "source": [
    "df_unique_GMM = pd.DataFrame({'l1':[41,31,8,3],\n",
    "                              'l2':[37,29,15,10],\n",
    "                              'l3':[42,18,29,2]})\n",
    "df_unique_GMM"
   ]
  },
  {
   "cell_type": "code",
   "execution_count": 56,
   "id": "485b4d3a",
   "metadata": {},
   "outputs": [
    {
     "data": {
      "text/plain": [
       "[0.0    44\n",
       " 2.0    26\n",
       " 1.0     9\n",
       " 3.0     4\n",
       " Name: pss_change, dtype: int64,\n",
       " 0.0    39\n",
       " 1.0    35\n",
       " 2.0    16\n",
       " 4.0     1\n",
       " Name: pss_change, dtype: int64,\n",
       " 1.0    34\n",
       " 0.0    31\n",
       " 2.0    25\n",
       " 3.0     1\n",
       " Name: pss_change, dtype: int64]"
      ]
     },
     "execution_count": 56,
     "metadata": {},
     "output_type": "execute_result"
    }
   ],
   "source": [
    "value_counts_KMeans=[x[\"pss_change\"].value_counts() for x in df_KMeans_c]\n",
    "value_counts_KMeans"
   ]
  },
  {
   "cell_type": "code",
   "execution_count": 53,
   "id": "640601c7",
   "metadata": {
    "scrolled": true
   },
   "outputs": [
    {
     "data": {
      "text/plain": [
       "<matplotlib.axes._subplots.AxesSubplot at 0x7fea390228d0>"
      ]
     },
     "execution_count": 53,
     "metadata": {},
     "output_type": "execute_result"
    },
    {
     "data": {
      "image/png": "[encoded data removed]",
      "text/plain": [
       "<Figure size 432x288 with 1 Axes>"
      ]
     },
     "metadata": {
      "needs_background": "light"
     },
     "output_type": "display_data"
    }
   ],
   "source": [
    "df_KMeans_c[0][\"pss_change\"].hist()"
   ]
  },
  {
   "cell_type": "code",
   "execution_count": 54,
   "id": "5aec6c32",
   "metadata": {
    "scrolled": true
   },
   "outputs": [
    {
     "data": {
      "text/plain": [
       "<matplotlib.axes._subplots.AxesSubplot at 0x7fea391fbb70>"
      ]
     },
     "execution_count": 54,
     "metadata": {},
     "output_type": "execute_result"
    },
    {
     "data": {
      "image/png": "[encoded data removed]",
      "text/plain": [
       "<Figure size 432x288 with 1 Axes>"
      ]
     },
     "metadata": {
      "needs_background": "light"
     },
     "output_type": "display_data"
    }
   ],
   "source": [
    "df_KMeans_c[1][\"pss_change\"].hist()"
   ]
  },
  {
   "cell_type": "code",
   "execution_count": 55,
   "id": "a609c178",
   "metadata": {},
   "outputs": [
    {
     "data": {
      "text/plain": [
       "<matplotlib.axes._subplots.AxesSubplot at 0x7fea39708208>"
      ]
     },
     "execution_count": 55,
     "metadata": {},
     "output_type": "execute_result"
    },
    {
     "data": {
      "image/png": "[encoded data removed]",
      "text/plain": [
       "<Figure size 432x288 with 1 Axes>"
      ]
     },
     "metadata": {
      "needs_background": "light"
     },
     "output_type": "display_data"
    }
   ],
   "source": [
    "df_KMeans_c[2][\"pss_change\"].hist()"
   ]
  },
  {
   "cell_type": "code",
   "execution_count": 38,
   "id": "1144bff7",
   "metadata": {
    "scrolled": false
   },
   "outputs": [
    {
     "data": {
      "text/plain": [
       "[0.0    44\n",
       " 2.0    26\n",
       " 1.0     9\n",
       " 3.0     4\n",
       " Name: pss_change, dtype: int64,\n",
       " 0.0    39\n",
       " 1.0    35\n",
       " 2.0    16\n",
       " 4.0     1\n",
       " Name: pss_change, dtype: int64,\n",
       " 1.0    34\n",
       " 0.0    31\n",
       " 2.0    25\n",
       " 3.0     1\n",
       " Name: pss_change, dtype: int64]"
      ]
     },
     "execution_count": 38,
     "metadata": {},
     "output_type": "execute_result"
    }
   ],
   "source": []
  },
  {
   "cell_type": "code",
   "execution_count": 41,
   "id": "48881603",
   "metadata": {},
   "outputs": [
    {
     "data": {
      "text/html": [
       "<div>\n",
       "<style scoped>\n",
       "    .dataframe tbody tr th:only-of-type {\n",
       "        vertical-align: middle;\n",
       "    }\n",
       "\n",
       "    .dataframe tbody tr th {\n",
       "        vertical-align: top;\n",
       "    }\n",
       "\n",
       "    .dataframe thead th {\n",
       "        text-align: right;\n",
       "    }\n",
       "</style>\n",
       "<table border=\"1\" class=\"dataframe\">\n",
       "  <thead>\n",
       "    <tr style=\"text-align: right;\">\n",
       "      <th></th>\n",
       "      <th>l1</th>\n",
       "      <th>l2</th>\n",
       "      <th>l3</th>\n",
       "    </tr>\n",
       "  </thead>\n",
       "  <tbody>\n",
       "    <tr>\n",
       "      <th>0</th>\n",
       "      <td>44</td>\n",
       "      <td>39</td>\n",
       "      <td>31</td>\n",
       "    </tr>\n",
       "    <tr>\n",
       "      <th>1</th>\n",
       "      <td>9</td>\n",
       "      <td>35</td>\n",
       "      <td>34</td>\n",
       "    </tr>\n",
       "    <tr>\n",
       "      <th>2</th>\n",
       "      <td>26</td>\n",
       "      <td>16</td>\n",
       "      <td>25</td>\n",
       "    </tr>\n",
       "    <tr>\n",
       "      <th>3</th>\n",
       "      <td>4</td>\n",
       "      <td>1</td>\n",
       "      <td>1</td>\n",
       "    </tr>\n",
       "  </tbody>\n",
       "</table>\n",
       "</div>"
      ],
      "text/plain": [
       "   l1  l2  l3\n",
       "0  44  39  31\n",
       "1   9  35  34\n",
       "2  26  16  25\n",
       "3   4   1   1"
      ]
     },
     "execution_count": 41,
     "metadata": {},
     "output_type": "execute_result"
    }
   ],
   "source": [
    "df_unique_KMeans = pd.DataFrame({'l1':[44,9,26,4],\n",
    "                              'l2':[39,35,16,1],\n",
    "                              'l3':[31,34,25,1]})\n",
    "df_unique_KMeans"
   ]
  },
  {
   "cell_type": "code",
   "execution_count": 44,
   "id": "291718a0",
   "metadata": {},
   "outputs": [
    {
     "data": {
      "text/plain": [
       "array([[<matplotlib.axes._subplots.AxesSubplot object at 0x7fea395494a8>,\n",
       "        <matplotlib.axes._subplots.AxesSubplot object at 0x7fea39559f98>],\n",
       "       [<matplotlib.axes._subplots.AxesSubplot object at 0x7fea395121d0>,\n",
       "        <matplotlib.axes._subplots.AxesSubplot object at 0x7fea394c43c8>]],\n",
       "      dtype=object)"
      ]
     },
     "execution_count": 44,
     "metadata": {},
     "output_type": "execute_result"
    },
    {
     "data": {
      "image/png": "[encoded data removed]",
      "text/plain": [
       "<Figure size 432x288 with 4 Axes>"
      ]
     },
     "metadata": {
      "needs_background": "light"
     },
     "output_type": "display_data"
    }
   ],
   "source": []
  },
  {
   "cell_type": "code",
   "execution_count": null,
   "id": "d115332a",
   "metadata": {},
   "outputs": [],
   "source": []
  },
  {
   "cell_type": "code",
   "execution_count": null,
   "id": "ab1e8b43",
   "metadata": {},
   "outputs": [],
   "source": []
  },
  {
   "cell_type": "code",
   "execution_count": null,
   "id": "9d489792",
   "metadata": {},
   "outputs": [],
   "source": []
  },
  {
   "cell_type": "code",
   "execution_count": null,
   "id": "d693324f",
   "metadata": {},
   "outputs": [],
   "source": []
  },
  {
   "cell_type": "code",
   "execution_count": null,
   "id": "cc8597f9",
   "metadata": {},
   "outputs": [],
   "source": []
  },
  {
   "cell_type": "code",
   "execution_count": null,
   "id": "bdc728b7",
   "metadata": {},
   "outputs": [],
   "source": []
  },
  {
   "cell_type": "code",
   "execution_count": null,
   "id": "8d281589",
   "metadata": {},
   "outputs": [],
   "source": []
  },
  {
   "cell_type": "code",
   "execution_count": null,
   "id": "e9315fa8",
   "metadata": {},
   "outputs": [],
   "source": []
  },
  {
   "cell_type": "code",
   "execution_count": null,
   "id": "de9c28b0",
   "metadata": {},
   "outputs": [],
   "source": []
  },
  {
   "cell_type": "code",
   "execution_count": null,
   "id": "48f73696",
   "metadata": {},
   "outputs": [],
   "source": []
  },
  {
   "cell_type": "code",
   "execution_count": null,
   "id": "6aa5e83a",
   "metadata": {},
   "outputs": [],
   "source": []
  },
  {
   "cell_type": "code",
   "execution_count": null,
   "id": "19d70530",
   "metadata": {},
   "outputs": [],
   "source": []
  },
  {
   "cell_type": "code",
   "execution_count": null,
   "id": "393a85ec",
   "metadata": {},
   "outputs": [],
   "source": []
  },
  {
   "cell_type": "code",
   "execution_count": null,
   "id": "30985476",
   "metadata": {},
   "outputs": [],
   "source": []
  },
  {
   "cell_type": "code",
   "execution_count": null,
   "id": "425adeed",
   "metadata": {},
   "outputs": [],
   "source": []
  },
  {
   "cell_type": "code",
   "execution_count": null,
   "id": "69c091f6",
   "metadata": {},
   "outputs": [],
   "source": []
  },
  {
   "cell_type": "code",
   "execution_count": null,
   "id": "8cc7ce0d",
   "metadata": {},
   "outputs": [],
   "source": []
  },
  {
   "cell_type": "code",
   "execution_count": null,
   "id": "1c369651",
   "metadata": {},
   "outputs": [],
   "source": []
  },
  {
   "cell_type": "code",
   "execution_count": null,
   "id": "39761d69",
   "metadata": {},
   "outputs": [],
   "source": []
  },
  {
   "cell_type": "code",
   "execution_count": null,
   "id": "ca091cb8",
   "metadata": {},
   "outputs": [],
   "source": []
  },
  {
   "cell_type": "code",
   "execution_count": null,
   "id": "56baef90",
   "metadata": {},
   "outputs": [],
   "source": []
  },
  {
   "cell_type": "code",
   "execution_count": null,
   "id": "0f61c98b",
   "metadata": {},
   "outputs": [],
   "source": []
  },
  {
   "cell_type": "code",
   "execution_count": null,
   "id": "e56dcdb0",
   "metadata": {},
   "outputs": [],
   "source": []
  },
  {
   "cell_type": "code",
   "execution_count": null,
   "id": "a1d82e67",
   "metadata": {},
   "outputs": [],
   "source": []
  },
  {
   "cell_type": "code",
   "execution_count": null,
   "id": "8cd4d3a8",
   "metadata": {},
   "outputs": [],
   "source": []
  },
  {
   "cell_type": "code",
   "execution_count": 30,
   "id": "62016e7a",
   "metadata": {},
   "outputs": [
    {
     "data": {
      "image/png": "[encoded data removed]",
      "text/plain": [
       "<Figure size 432x288 with 1 Axes>"
      ]
     },
     "metadata": {
      "needs_background": "light"
     },
     "output_type": "display_data"
    }
   ],
   "source": [
    "hist = value_counts_KMeans[0].hist()"
   ]
  },
  {
   "cell_type": "code",
   "execution_count": 37,
   "id": "997b56eb",
   "metadata": {},
   "outputs": [
    {
     "data": {
      "text/html": [
       "<div>\n",
       "<style scoped>\n",
       "    .dataframe tbody tr th:only-of-type {\n",
       "        vertical-align: middle;\n",
       "    }\n",
       "\n",
       "    .dataframe tbody tr th {\n",
       "        vertical-align: top;\n",
       "    }\n",
       "\n",
       "    .dataframe thead th {\n",
       "        text-align: right;\n",
       "    }\n",
       "</style>\n",
       "<table border=\"1\" class=\"dataframe\">\n",
       "  <thead>\n",
       "    <tr style=\"text-align: right;\">\n",
       "      <th></th>\n",
       "      <th>a</th>\n",
       "      <th>b</th>\n",
       "      <th>c</th>\n",
       "      <th>idx_col</th>\n",
       "    </tr>\n",
       "  </thead>\n",
       "  <tbody>\n",
       "    <tr>\n",
       "      <th>0</th>\n",
       "      <td>NaN</td>\n",
       "      <td>NaN</td>\n",
       "      <td>NaN</td>\n",
       "      <td>0</td>\n",
       "    </tr>\n",
       "    <tr>\n",
       "      <th>1</th>\n",
       "      <td>1.0</td>\n",
       "      <td>0.0</td>\n",
       "      <td>2.0</td>\n",
       "      <td>1</td>\n",
       "    </tr>\n",
       "    <tr>\n",
       "      <th>2</th>\n",
       "      <td>0.0</td>\n",
       "      <td>3.0</td>\n",
       "      <td>1.0</td>\n",
       "      <td>2</td>\n",
       "    </tr>\n",
       "    <tr>\n",
       "      <th>3</th>\n",
       "      <td>0.0</td>\n",
       "      <td>1.0</td>\n",
       "      <td>2.0</td>\n",
       "      <td>3</td>\n",
       "    </tr>\n",
       "    <tr>\n",
       "      <th>4</th>\n",
       "      <td>0.0</td>\n",
       "      <td>0.0</td>\n",
       "      <td>2.0</td>\n",
       "      <td>4</td>\n",
       "    </tr>\n",
       "    <tr>\n",
       "      <th>...</th>\n",
       "      <td>...</td>\n",
       "      <td>...</td>\n",
       "      <td>...</td>\n",
       "      <td>...</td>\n",
       "    </tr>\n",
       "    <tr>\n",
       "      <th>87</th>\n",
       "      <td>NaN</td>\n",
       "      <td>1.0</td>\n",
       "      <td>0.0</td>\n",
       "      <td>87</td>\n",
       "    </tr>\n",
       "    <tr>\n",
       "      <th>88</th>\n",
       "      <td>NaN</td>\n",
       "      <td>1.0</td>\n",
       "      <td>0.0</td>\n",
       "      <td>88</td>\n",
       "    </tr>\n",
       "    <tr>\n",
       "      <th>89</th>\n",
       "      <td>NaN</td>\n",
       "      <td>0.0</td>\n",
       "      <td>0.0</td>\n",
       "      <td>89</td>\n",
       "    </tr>\n",
       "    <tr>\n",
       "      <th>90</th>\n",
       "      <td>NaN</td>\n",
       "      <td>1.0</td>\n",
       "      <td>0.0</td>\n",
       "      <td>90</td>\n",
       "    </tr>\n",
       "    <tr>\n",
       "      <th>91</th>\n",
       "      <td>NaN</td>\n",
       "      <td>0.0</td>\n",
       "      <td>3.0</td>\n",
       "      <td>91</td>\n",
       "    </tr>\n",
       "  </tbody>\n",
       "</table>\n",
       "<p>92 rows × 4 columns</p>\n",
       "</div>"
      ],
      "text/plain": [
       "      a    b    c  idx_col\n",
       "0   NaN  NaN  NaN        0\n",
       "1   1.0  0.0  2.0        1\n",
       "2   0.0  3.0  1.0        2\n",
       "3   0.0  1.0  2.0        3\n",
       "4   0.0  0.0  2.0        4\n",
       "..  ...  ...  ...      ...\n",
       "87  NaN  1.0  0.0       87\n",
       "88  NaN  1.0  0.0       88\n",
       "89  NaN  0.0  0.0       89\n",
       "90  NaN  1.0  0.0       90\n",
       "91  NaN  0.0  3.0       91\n",
       "\n",
       "[92 rows x 4 columns]"
      ]
     },
     "execution_count": 37,
     "metadata": {},
     "output_type": "execute_result"
    }
   ],
   "source": [
    "# # df_unique_counts=pd.DataFrame(dict(l1=df_GMMS_c[0] , l2 = df_GMMS_c[1], l3=df_GMMS_c[2]))\n",
    "# # df_unique_counts\n",
    "\n",
    "# df_unique_GMM = pd.DataFrame({'a': df_GMMS_c[0][\"pss_change\"],'b':df_GMMS_c[1][\"pss_change\"],'c':df_GMMS_c[2][\"pss_change\"], 'idx_col':df_GMMS_c[2].index})\n",
    "# df_unique_GMM\n",
    "# # df_unique_GMM = pd.DataFrame(columns = ['l1', 'l2', 'l3'])\n",
    "# # df_unique_GMM['l1']=df_GMMS_c[0]\n",
    "# # df_unique_GMM['l2']=df_GMMS_c[1]\n",
    "# # df_unique_GMM['l3']=df_GMMS_c[2]\n",
    "# _unique_GMM"
   ]
  },
  {
   "cell_type": "code",
   "execution_count": null,
   "id": "bf682faf",
   "metadata": {},
   "outputs": [],
   "source": []
  }
 ],
 "metadata": {
  "kernelspec": {
   "display_name": "Python 3",
   "language": "python",
   "name": "python3"
  },
  "language_info": {
   "codemirror_mode": {
    "name": "ipython",
    "version": 3
   },
   "file_extension": ".py",
   "mimetype": "text/x-python",
   "name": "python",
   "nbconvert_exporter": "python",
   "pygments_lexer": "ipython3",
   "version": "3.7.0"
  }
 },
 "nbformat": 4,
 "nbformat_minor": 5
}
