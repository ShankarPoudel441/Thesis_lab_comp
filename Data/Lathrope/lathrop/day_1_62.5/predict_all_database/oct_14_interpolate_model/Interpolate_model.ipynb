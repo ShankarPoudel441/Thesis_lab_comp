{
 "cells": [
  {
   "cell_type": "code",
   "execution_count": 9,
   "id": "7e13abba-d81b-4426-8f13-ec3ce492d97e",
   "metadata": {},
   "outputs": [],
   "source": [
    "import pickle\n",
    "import numpy as np\n",
    "import pandas as pd\n",
    "from pathlib import Path\n",
    "\n",
    "from rica.domain.vibration import vibration\n",
    "from rica.domain.configure import configure\n",
    "from rica.use_cases.filter import create_filter_bank, filter_signal\n",
    "from rica.use_cases.power import (compute_min_max_power, compute_power,\n",
    "                                  create_power_object)\n",
    "from rica.domain.density import ExtendedKMeans"
   ]
  },
  {
   "cell_type": "code",
   "execution_count": 2,
   "id": "34144c4b-4266-4982-bbfc-c217404dc273",
   "metadata": {},
   "outputs": [],
   "source": [
    "def load_model(model_location_name):\n",
    "    with open(model_location_name, \"rb\") as fid:\n",
    "        model = pickle.load(fid)\n",
    "    if not isinstance(model, ExtendedKMeans):\n",
    "        print(\n",
    "            f\"There is no extendedkmeans model model in '{model_location_name}' file\"\n",
    "        )\n",
    "    return model\n",
    "\n",
    "def save_model(model,location,name):\n",
    "    to_save=Path(location)/name\n",
    "    with open(to_save, \"wb\") as f:\n",
    "        pickle.dump(model, f)"
   ]
  },
  {
   "cell_type": "code",
   "execution_count": 3,
   "id": "96e70cef-7c58-4295-bc74-a568c42c6cee",
   "metadata": {},
   "outputs": [
    {
     "data": {
      "text/plain": [
       "array([[-1.84851224e-01, -4.89798018e-01, -5.77061766e-01,\n",
       "        -3.78731923e-01, -1.60061256e-01, -1.64548204e-01,\n",
       "        -3.78576624e-01],\n",
       "       [ 7.01526317e-02, -2.50379309e-01, -2.89555622e-01,\n",
       "        -2.65137608e-01, -6.78580174e-02, -6.67375570e-02,\n",
       "        -2.58617463e-01],\n",
       "       [ 2.06610045e-01, -1.25462015e-01, -2.69474845e-01,\n",
       "        -2.22634328e-01, -6.00976737e-02,  2.32422934e-02,\n",
       "        -1.96976341e-01],\n",
       "       [ 2.65164248e-01, -2.04109085e-02, -1.93725641e-04,\n",
       "        -1.65241652e-01,  4.70025977e-02,  4.21833688e-02,\n",
       "        -1.41519607e-01],\n",
       "       [ 3.31508332e-01,  1.10039048e+00,  1.17065688e+00,\n",
       "         1.49220542e+00,  1.75656032e-01,  1.41728516e-01,\n",
       "         1.34719890e+00]])"
      ]
     },
     "execution_count": 3,
     "metadata": {},
     "output_type": "execute_result"
    }
   ],
   "source": [
    "model=load_model(\"/home/shankar/GRA/R@/rica/projects/lathrop/day_1_62.5/predict_all_database/oct_14_interpolate_model/model_prev.pkl\")\n",
    "centers=model.cluster_centers_\n",
    "centers"
   ]
  },
  {
   "cell_type": "code",
   "execution_count": 4,
   "id": "68d8d388-2aea-4a30-8886-c6c4a4988725",
   "metadata": {},
   "outputs": [
    {
     "data": {
      "text/plain": [
       "array([[-0.18485122, -0.48979802, -0.57706177, -0.37873192, -0.16006126,\n",
       "        -0.1645482 , -0.37857662],\n",
       "       [-0.05576133, -0.09225089, -0.1401321 ,  0.08900241, -0.07613193,\n",
       "        -0.08797902,  0.05286726],\n",
       "       [ 0.07332855,  0.30529623,  0.29679756,  0.55673675,  0.00779739,\n",
       "        -0.01140984,  0.48431114],\n",
       "       [ 0.20241844,  0.70284336,  0.73372722,  1.02447108,  0.09172671,\n",
       "         0.06515934,  0.91575502],\n",
       "       [ 0.33150833,  1.10039048,  1.17065688,  1.49220542,  0.17565603,\n",
       "         0.14172852,  1.3471989 ]])"
      ]
     },
     "execution_count": 4,
     "metadata": {},
     "output_type": "execute_result"
    }
   ],
   "source": [
    "def interpolate(a,b,n):\n",
    "    each_diff=(b-a)/(n+1)\n",
    "    betn_points=[type(a)(a+k*each_diff) for k in range(1,n+1)]\n",
    "    betn_points.insert(0,a)\n",
    "    betn_points+=[b]\n",
    "    return betn_points\n",
    "\n",
    "def transpose_nd_list(l):\n",
    "    return list(map(list, zip(*l)))\n",
    "\n",
    "def get_interpolated_centers(centers):\n",
    "    length=len(centers)\n",
    "    min_c,max_c=centers[0],centers[-1]\n",
    "    centers_n=[]\n",
    "    for a,b in zip(min_c,max_c):\n",
    "        centers_n+=[interpolate(a,b,length-2)]\n",
    "    # print(list(np.array(centers_n).T))\n",
    "    ts_c=transpose_nd_list(centers_n)\n",
    "    for i in range(len(ts_c)):\n",
    "        for j in range(len(ts_c[0])):\n",
    "            centers[i][j]=ts_c[i][j]\n",
    "    return centers\n",
    "new_interpolated_centers=get_interpolated_centers(centers)\n",
    "new_interpolated_centers"
   ]
  },
  {
   "cell_type": "code",
   "execution_count": 5,
   "id": "fedf412e-06f3-476f-aafa-17fca778205f",
   "metadata": {},
   "outputs": [],
   "source": [
    "model.cluster_centers_=new_interpolated_centers"
   ]
  },
  {
   "cell_type": "code",
   "execution_count": 6,
   "id": "05f637be-fe5f-46e7-ae51-7aa24efaa7fd",
   "metadata": {},
   "outputs": [
    {
     "data": {
      "text/plain": [
       "array([[-0.18485122, -0.48979802, -0.57706177, -0.37873192, -0.16006126,\n",
       "        -0.1645482 , -0.37857662],\n",
       "       [-0.05576133, -0.09225089, -0.1401321 ,  0.08900241, -0.07613193,\n",
       "        -0.08797902,  0.05286726],\n",
       "       [ 0.07332855,  0.30529623,  0.29679756,  0.55673675,  0.00779739,\n",
       "        -0.01140984,  0.48431114],\n",
       "       [ 0.20241844,  0.70284336,  0.73372722,  1.02447108,  0.09172671,\n",
       "         0.06515934,  0.91575502],\n",
       "       [ 0.33150833,  1.10039048,  1.17065688,  1.49220542,  0.17565603,\n",
       "         0.14172852,  1.3471989 ]])"
      ]
     },
     "execution_count": 6,
     "metadata": {},
     "output_type": "execute_result"
    }
   ],
   "source": [
    "model.cluster_centers_"
   ]
  },
  {
   "cell_type": "code",
   "execution_count": 7,
   "id": "de6a2cb3-ce80-4f54-8d19-499488078633",
   "metadata": {},
   "outputs": [],
   "source": [
    "save_model(model,\"/home/shankar/GRA/R@/rica/projects/lathrop/day_1_62.5/predict_all_database/oct_14_interpolate_model\",\"model.pkl\")"
   ]
  },
  {
   "cell_type": "code",
   "execution_count": 8,
   "id": "7031584f-511e-4224-b72b-cd60520f2cc3",
   "metadata": {},
   "outputs": [
    {
     "data": {
      "text/plain": [
       "array([[-0.18485122, -0.48979802, -0.57706177, -0.37873192, -0.16006126,\n",
       "        -0.1645482 , -0.37857662],\n",
       "       [-0.05576133, -0.09225089, -0.1401321 ,  0.08900241, -0.07613193,\n",
       "        -0.08797902,  0.05286726],\n",
       "       [ 0.07332855,  0.30529623,  0.29679756,  0.55673675,  0.00779739,\n",
       "        -0.01140984,  0.48431114],\n",
       "       [ 0.20241844,  0.70284336,  0.73372722,  1.02447108,  0.09172671,\n",
       "         0.06515934,  0.91575502],\n",
       "       [ 0.33150833,  1.10039048,  1.17065688,  1.49220542,  0.17565603,\n",
       "         0.14172852,  1.3471989 ]])"
      ]
     },
     "execution_count": 8,
     "metadata": {},
     "output_type": "execute_result"
    }
   ],
   "source": [
    "model_=load_model(\"model.pkl\")\n",
    "centers_=model_.cluster_centers_\n",
    "centers_"
   ]
  },
  {
   "cell_type": "code",
   "execution_count": null,
   "id": "63a00941-cfb6-4f39-b7a3-37b791dff690",
   "metadata": {},
   "outputs": [],
   "source": []
  },
  {
   "cell_type": "code",
   "execution_count": null,
   "id": "83978a68-243b-4a75-b1cf-0ff5a10cfbc2",
   "metadata": {},
   "outputs": [],
   "source": []
  },
  {
   "cell_type": "code",
   "execution_count": 11,
   "id": "d0a266ce-d923-4091-819c-75d8fdcc0c81",
   "metadata": {},
   "outputs": [],
   "source": [
    "pred_ex_k=pd.read_csv(\"/home/shankar/GRA/R@/rica/projects/lathrop/day_1_62.5/predict_all_database/predict_oct_13_b/processed_data.csv\")"
   ]
  },
  {
   "cell_type": "code",
   "execution_count": 12,
   "id": "4fcfa929-9718-403e-8d18-79ddc6a6634e",
   "metadata": {},
   "outputs": [],
   "source": [
    "pred_inter=pd.read_csv(\"/home/shankar/GRA/R@/rica/projects/lathrop/day_1_62.5/predict_all_database/oct_14_interpolate_model/processed_data.csv\")"
   ]
  },
  {
   "cell_type": "code",
   "execution_count": null,
   "id": "615d091d-6793-4236-93d2-18bcf731b8e5",
   "metadata": {},
   "outputs": [],
   "source": []
  }
 ],
 "metadata": {
  "kernelspec": {
   "display_name": "Python 3 (ipykernel)",
   "language": "python",
   "name": "python3"
  },
  "language_info": {
   "codemirror_mode": {
    "name": "ipython",
    "version": 3
   },
   "file_extension": ".py",
   "mimetype": "text/x-python",
   "name": "python",
   "nbconvert_exporter": "python",
   "pygments_lexer": "ipython3",
   "version": "3.7.0"
  }
 },
 "nbformat": 4,
 "nbformat_minor": 5
}
