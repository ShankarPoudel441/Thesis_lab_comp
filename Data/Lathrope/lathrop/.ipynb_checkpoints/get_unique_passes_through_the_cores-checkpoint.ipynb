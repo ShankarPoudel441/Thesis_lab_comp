{
 "cells": [
  {
   "cell_type": "code",
   "execution_count": 1,
   "id": "5a2c7a81-d210-4bf6-bac9-5b1dc1edfe70",
   "metadata": {},
   "outputs": [],
   "source": [
    "import pandas as pd"
   ]
  },
  {
   "cell_type": "code",
   "execution_count": 2,
   "id": "281aa24e-a68b-40b6-815d-8504efbe7d53",
   "metadata": {},
   "outputs": [],
   "source": [
    "processed_data=pd.read_csv(\"/home/shankar/GRA/R@/rica/projects/lathrop/day_1_62.5/predict_all_database/new_predict/processed_data.csv\")"
   ]
  },
  {
   "cell_type": "code",
   "execution_count": 4,
   "id": "63aa464e-10d5-4537-b4ca-347cbaebf805",
   "metadata": {},
   "outputs": [],
   "source": [
    "cores=pd.read_csv(\"/home/shankar/GRA/R@/rica/projects/lathrop/Lathrop-waypoints.csv\")"
   ]
  },
  {
   "cell_type": "code",
   "execution_count": 5,
   "id": "02f63fa7-c560-4805-892e-e52e4af54aea",
   "metadata": {},
   "outputs": [
    {
     "data": {
      "text/html": [
       "<div>\n",
       "<style scoped>\n",
       "    .dataframe tbody tr th:only-of-type {\n",
       "        vertical-align: middle;\n",
       "    }\n",
       "\n",
       "    .dataframe tbody tr th {\n",
       "        vertical-align: top;\n",
       "    }\n",
       "\n",
       "    .dataframe thead th {\n",
       "        text-align: right;\n",
       "    }\n",
       "</style>\n",
       "<table border=\"1\" class=\"dataframe\">\n",
       "  <thead>\n",
       "    <tr style=\"text-align: right;\">\n",
       "      <th></th>\n",
       "      <th>Number</th>\n",
       "      <th>Name</th>\n",
       "      <th>Description</th>\n",
       "      <th>GeometryType</th>\n",
       "      <th>Latitude</th>\n",
       "      <th>Longitude</th>\n",
       "      <th>Altitude</th>\n",
       "      <th>Density</th>\n",
       "      <th>Thickness</th>\n",
       "    </tr>\n",
       "  </thead>\n",
       "  <tbody>\n",
       "    <tr>\n",
       "      <th>0</th>\n",
       "      <td>28</td>\n",
       "      <td>Lathrop, R4, NDG 94.3</td>\n",
       "      <td>NaN</td>\n",
       "      <td>Point</td>\n",
       "      <td>37.819070</td>\n",
       "      <td>-121.289119</td>\n",
       "      <td>-0.557</td>\n",
       "      <td>93.4</td>\n",
       "      <td>2.7</td>\n",
       "    </tr>\n",
       "    <tr>\n",
       "      <th>1</th>\n",
       "      <td>27</td>\n",
       "      <td>Lathrop, R5, NDG 94.5</td>\n",
       "      <td>NaN</td>\n",
       "      <td>Point</td>\n",
       "      <td>37.819072</td>\n",
       "      <td>-121.288548</td>\n",
       "      <td>-0.939</td>\n",
       "      <td>93.8</td>\n",
       "      <td>2.8</td>\n",
       "    </tr>\n",
       "    <tr>\n",
       "      <th>2</th>\n",
       "      <td>26</td>\n",
       "      <td>Lathrop, R6, NDG 94</td>\n",
       "      <td>NaN</td>\n",
       "      <td>Point</td>\n",
       "      <td>37.819060</td>\n",
       "      <td>-121.287912</td>\n",
       "      <td>-1.676</td>\n",
       "      <td>92.7</td>\n",
       "      <td>2.7</td>\n",
       "    </tr>\n",
       "    <tr>\n",
       "      <th>3</th>\n",
       "      <td>25</td>\n",
       "      <td>Lathrop, R3, NDG 95</td>\n",
       "      <td>NaN</td>\n",
       "      <td>Point</td>\n",
       "      <td>37.819033</td>\n",
       "      <td>-121.290488</td>\n",
       "      <td>-0.571</td>\n",
       "      <td>94.0</td>\n",
       "      <td>2.5</td>\n",
       "    </tr>\n",
       "    <tr>\n",
       "      <th>4</th>\n",
       "      <td>24</td>\n",
       "      <td>Lathrop, R2, NDG 95</td>\n",
       "      <td>NaN</td>\n",
       "      <td>Point</td>\n",
       "      <td>37.819039</td>\n",
       "      <td>-121.291162</td>\n",
       "      <td>-2.239</td>\n",
       "      <td>95.0</td>\n",
       "      <td>2.4</td>\n",
       "    </tr>\n",
       "    <tr>\n",
       "      <th>5</th>\n",
       "      <td>23</td>\n",
       "      <td>Lathrop, R1, NDG 95</td>\n",
       "      <td>NaN</td>\n",
       "      <td>Point</td>\n",
       "      <td>37.819026</td>\n",
       "      <td>-121.291552</td>\n",
       "      <td>-1.122</td>\n",
       "      <td>95.2</td>\n",
       "      <td>2.7</td>\n",
       "    </tr>\n",
       "  </tbody>\n",
       "</table>\n",
       "</div>"
      ],
      "text/plain": [
       "   Number                   Name  Description GeometryType   Latitude  \\\n",
       "0      28  Lathrop, R4, NDG 94.3          NaN        Point  37.819070   \n",
       "1      27  Lathrop, R5, NDG 94.5          NaN        Point  37.819072   \n",
       "2      26    Lathrop, R6, NDG 94          NaN        Point  37.819060   \n",
       "3      25    Lathrop, R3, NDG 95          NaN        Point  37.819033   \n",
       "4      24    Lathrop, R2, NDG 95          NaN        Point  37.819039   \n",
       "5      23    Lathrop, R1, NDG 95          NaN        Point  37.819026   \n",
       "\n",
       "    Longitude  Altitude  Density  Thickness  \n",
       "0 -121.289119    -0.557     93.4        2.7  \n",
       "1 -121.288548    -0.939     93.8        2.8  \n",
       "2 -121.287912    -1.676     92.7        2.7  \n",
       "3 -121.290488    -0.571     94.0        2.5  \n",
       "4 -121.291162    -2.239     95.0        2.4  \n",
       "5 -121.291552    -1.122     95.2        2.7  "
      ]
     },
     "execution_count": 5,
     "metadata": {},
     "output_type": "execute_result"
    }
   ],
   "source": [
    "cores"
   ]
  },
  {
   "cell_type": "code",
   "execution_count": 8,
   "id": "fd6aaeeb-008e-4918-8e31-41aaf1863362",
   "metadata": {},
   "outputs": [],
   "source": [
    "def get_data_to_look(processed_data,latitude,longitude,date=None):\n",
    "        dlat=0.00001\n",
    "        dlong=0.000013\n",
    "        lat_min=latitude-dlat\n",
    "        lat_max=latitude+dlat\n",
    "        long_min=longitude-dlong\n",
    "        long_max=longitude+dlong        \n",
    "        if date:\n",
    "            to_look=processed_data[(processed_data[\"latitude\"]>lat_min) &\n",
    "                         (processed_data[\"latitude\"]<lat_max) &\n",
    "                         (processed_data['longitude'] >=long_min) &\n",
    "                         (processed_data['longitude']<=long_max) &\n",
    "                         (processed_data['time']>= f'{date}T07:00:00Z') &\n",
    "                         (processed_data['time']<=f'{date}T23:59:00Z')\n",
    "            ]\n",
    "        else:\n",
    "            to_look=processed_data[(processed_data[\"latitude\"]>lat_min) &\n",
    "                         (processed_data[\"latitude\"]<lat_max) &\n",
    "                         (processed_data['longitude'] >=long_min) &\n",
    "                         (processed_data['longitude']<=long_max)]        \n",
    "        return to_look"
   ]
  },
  {
   "cell_type": "code",
   "execution_count": 11,
   "id": "b2721f9e-7133-4aaf-bfc3-1234c553627c",
   "metadata": {},
   "outputs": [],
   "source": [
    "# cores[[\"Latitude\",\"Longitude\"]].values"
   ]
  },
  {
   "cell_type": "code",
   "execution_count": 18,
   "id": "67dbea07-e646-4fdf-adf9-57b150aff9cf",
   "metadata": {},
   "outputs": [],
   "source": [
    "pass_ids=pd.concat([get_data_to_look(processed_data,lat,long) for lat,long in cores[[\"Latitude\",\"Longitude\"]].values])[\"passID\"].unique()"
   ]
  },
  {
   "cell_type": "code",
   "execution_count": 19,
   "id": "5e58a529-8cbf-48b7-87c4-30acb6185efd",
   "metadata": {},
   "outputs": [
    {
     "data": {
      "text/plain": [
       "array([ 30.,  31.,  32.,  47.,  48.,  49.,  51.,  52., 119.,  45.,  46.,\n",
       "         0.,   1.,  16.,  17.,  18.,  40.,  41.])"
      ]
     },
     "execution_count": 19,
     "metadata": {},
     "output_type": "execute_result"
    }
   ],
   "source": [
    "pass_ids"
   ]
  },
  {
   "cell_type": "code",
   "execution_count": 22,
   "id": "5ef3bc2c-6240-4fce-a060-0abfd39407a9",
   "metadata": {},
   "outputs": [
    {
     "data": {
      "text/plain": [
       "array([ 30.,  31.,  32.,  47.,  48.,  49.,  51.,  52., 119.,  45.,  46.,\n",
       "         0.,   1.,  16.,  17.,  18.,  40.,  41.])"
      ]
     },
     "execution_count": 22,
     "metadata": {},
     "output_type": "execute_result"
    }
   ],
   "source": [
    "def get_pass_ids(core_df,processed_data_df):\n",
    "    pass_ids=pd.concat([get_data_to_look(processed_data_df,lat,long) for lat,long in core_df[[\"Latitude\",\"Longitude\"]].values])[\"passID\"].unique()\n",
    "    return pass_ids\n",
    "\n",
    "get_pass_ids(core_df=cores,processed_data_df=processed_data)\n",
    "    "
   ]
  },
  {
   "cell_type": "code",
   "execution_count": null,
   "id": "58beaadd-5675-4413-9d59-2bb62326405d",
   "metadata": {},
   "outputs": [],
   "source": []
  }
 ],
 "metadata": {
  "kernelspec": {
   "display_name": "Python 3",
   "language": "python",
   "name": "python3"
  },
  "language_info": {
   "codemirror_mode": {
    "name": "ipython",
    "version": 3
   },
   "file_extension": ".py",
   "mimetype": "text/x-python",
   "name": "python",
   "nbconvert_exporter": "python",
   "pygments_lexer": "ipython3",
   "version": "3.7.0"
  }
 },
 "nbformat": 4,
 "nbformat_minor": 5
}
