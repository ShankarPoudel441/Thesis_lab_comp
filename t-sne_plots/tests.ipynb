{
 "cells": [
  {
   "cell_type": "code",
   "execution_count": 2,
   "id": "0d30980d",
   "metadata": {},
   "outputs": [],
   "source": [
    "import numpy as np"
   ]
  },
  {
   "cell_type": "code",
   "execution_count": 4,
   "id": "b0e25939",
   "metadata": {},
   "outputs": [
    {
     "data": {
      "text/plain": [
       "{'a': 2, 'b': [43]}"
      ]
     },
     "execution_count": 4,
     "metadata": {},
     "output_type": "execute_result"
    }
   ],
   "source": [
    "params={\"a\":2,\n",
    "       \"b\":[43]}\n",
    "\n",
    "for key, value in params.items():\n",
    "    if isinstance(value, np.ndarray):\n",
    "        params[key] = value.tolist()\n",
    "    if isinstance(value, np.float64):\n",
    "        params[key] = float(value)\n",
    "\n",
    "with open(project_folder / folder / filename, \"w\") as fid:\n",
    "        yaml.dump(params, fid, default_flow_style=False)"
   ]
  },
  {
   "cell_type": "code",
   "execution_count": null,
   "id": "67daacb2",
   "metadata": {},
   "outputs": [],
   "source": []
  }
 ],
 "metadata": {
  "kernelspec": {
   "display_name": "Python 3 (ipykernel)",
   "language": "python",
   "name": "python3"
  },
  "language_info": {
   "codemirror_mode": {
    "name": "ipython",
    "version": 3
   },
   "file_extension": ".py",
   "mimetype": "text/x-python",
   "name": "python",
   "nbconvert_exporter": "python",
   "pygments_lexer": "ipython3",
   "version": "3.9.12"
  }
 },
 "nbformat": 4,
 "nbformat_minor": 5
}
